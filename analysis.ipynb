{
 "metadata": {
  "language_info": {
   "codemirror_mode": {
    "name": "ipython",
    "version": 3
   },
   "file_extension": ".py",
   "mimetype": "text/x-python",
   "name": "python",
   "nbconvert_exporter": "python",
   "pygments_lexer": "ipython3",
   "version": "3.6.10"
  },
  "orig_nbformat": 2,
  "kernelspec": {
   "name": "python3610jvsc74a57bd039cf81ff75551f3ea7268a5731633db08a0e59f6bdbd7d1519c41c672b5e67ae",
   "display_name": "Python 3.6.10 64-bit ('PythonData': conda)"
  }
 },
 "nbformat": 4,
 "nbformat_minor": 2,
 "cells": [
  {
   "cell_type": "code",
   "execution_count": 9,
   "metadata": {},
   "outputs": [],
   "source": [
    "import pandas as pd\n",
    "import os\n",
    "import glob"
   ]
  },
  {
   "cell_type": "code",
   "execution_count": 17,
   "metadata": {},
   "outputs": [
    {
     "output_type": "execute_result",
     "data": {
      "text/plain": [
       "tripduration                 int64\n",
       "starttime                   object\n",
       "stoptime                    object\n",
       "start station id             int64\n",
       "start station name          object\n",
       "start station latitude     float64\n",
       "start station longitude    float64\n",
       "end station id               int64\n",
       "end station name            object\n",
       "end station latitude       float64\n",
       "end station longitude      float64\n",
       "bikeid                       int64\n",
       "usertype                    object\n",
       "birth year                   int64\n",
       "gender                       int64\n",
       "dtype: object"
      ]
     },
     "metadata": {},
     "execution_count": 17
    }
   ],
   "source": [
    "# import csv to explore data\n",
    "df1 = pd.read_csv('data/JC-201903-citibike-tripdata.csv')\n",
    "df1.dtypes"
   ]
  },
  {
   "cell_type": "code",
   "execution_count": 30,
   "metadata": {},
   "outputs": [
    {
     "output_type": "execute_result",
     "data": {
      "text/plain": [
       "starttime                  datetime64[ns]\n",
       "stoptime                   datetime64[ns]\n",
       "start station id                    int64\n",
       "start station name                 object\n",
       "start station latitude            float64\n",
       "start station longitude           float64\n",
       "end station id                      int64\n",
       "end station name                   object\n",
       "end station latitude              float64\n",
       "end station longitude             float64\n",
       "bikeid                              int64\n",
       "usertype                           object\n",
       "birth year                          int64\n",
       "gender                              int64\n",
       "year                                int64\n",
       "age                                 int64\n",
       "dtype: object"
      ]
     },
     "metadata": {},
     "execution_count": 30
    }
   ],
   "source": [
    "# convert startime column to datetime format\n",
    "# https://stackoverflow.com/questions/51898826/converting-object-column-in-pandas-dataframe-to-datetime\n",
    "df['starttime'] = pd.to_datetime(df['starttime'], dayfirst=True)\n",
    "df['stoptime'] = pd.to_datetime(df['stoptime'], dayfirst=True)\n",
    "df.dtypes"
   ]
  },
  {
   "cell_type": "code",
   "execution_count": 28,
   "metadata": {},
   "outputs": [],
   "source": [
    "# extract year from startime col and calculate age for each user\n",
    "df['year'] = df['starttime'].dt.year\n",
    "df['age'] = df['year'] - df['birth year']"
   ]
  },
  {
   "cell_type": "code",
   "execution_count": 44,
   "metadata": {},
   "outputs": [
    {
     "output_type": "execute_result",
     "data": {
      "text/plain": [
       "                           starttime                stoptime  \\\n",
       "tripduration                                                   \n",
       "306          2019-03-01 06:47:08.211 2019-03-01 06:52:14.715   \n",
       "123          2019-03-01 07:30:53.022 2019-03-01 07:32:56.777   \n",
       "328          2019-03-01 08:18:30.403 2019-03-01 08:23:59.059   \n",
       "95           2019-03-01 11:04:47.202 2019-03-01 11:06:22.813   \n",
       "169          2019-03-01 11:51:29.417 2019-03-01 11:54:19.212   \n",
       "...                              ...                     ...   \n",
       "916          2019-03-29 13:38:36.175 2019-03-29 13:53:53.010   \n",
       "661          2019-03-29 15:29:18.751 2019-03-29 15:40:20.251   \n",
       "577          2019-03-30 13:43:09.209 2019-03-30 13:52:46.714   \n",
       "585          2019-03-31 08:33:21.520 2019-03-31 08:43:06.752   \n",
       "914          2019-03-31 14:59:32.398 2019-03-31 15:14:46.848   \n",
       "\n",
       "              start station id start station name  start station latitude  \\\n",
       "tripduration                                                                \n",
       "306                       3183     Exchange Place               40.716247   \n",
       "123                       3183     Exchange Place               40.716247   \n",
       "328                       3183     Exchange Place               40.716247   \n",
       "95                        3183     Exchange Place               40.716247   \n",
       "169                       3183     Exchange Place               40.716247   \n",
       "...                        ...                ...                     ...   \n",
       "916                       3694     Jackson Square               40.711130   \n",
       "661                       3694     Jackson Square               40.711130   \n",
       "577                       3694     Jackson Square               40.711130   \n",
       "585                       3694     Jackson Square               40.711130   \n",
       "914                       3694     Jackson Square               40.711130   \n",
       "\n",
       "              start station longitude  end station id end station name  \\\n",
       "tripduration                                                             \n",
       "306                        -74.033459            3267     Morris Canal   \n",
       "123                        -74.033459            3184      Paulus Hook   \n",
       "328                        -74.033459            3213   Van Vorst Park   \n",
       "95                         -74.033459            3184      Paulus Hook   \n",
       "169                        -74.033459            3639       Harborside   \n",
       "...                               ...             ...              ...   \n",
       "916                        -74.078900            3185        City Hall   \n",
       "661                        -74.078900            3280      Astor Place   \n",
       "577                        -74.078900            3195          Sip Ave   \n",
       "585                        -74.078900            3195          Sip Ave   \n",
       "914                        -74.078900            3185        City Hall   \n",
       "\n",
       "              end station latitude  end station longitude  bikeid    usertype  \\\n",
       "tripduration                                                                    \n",
       "306                      40.712419             -74.038526   26272  Subscriber   \n",
       "123                      40.714145             -74.033552   26192  Subscriber   \n",
       "328                      40.718489             -74.047727   26226  Subscriber   \n",
       "95                       40.714145             -74.033552   26204  Subscriber   \n",
       "169                      40.719252             -74.034234   29449  Subscriber   \n",
       "...                            ...                    ...     ...         ...   \n",
       "916                      40.717733             -74.043845   29277  Subscriber   \n",
       "661                      40.719282             -74.071262   26235  Subscriber   \n",
       "577                      40.730897             -74.063913   29596  Subscriber   \n",
       "585                      40.730897             -74.063913   26192  Subscriber   \n",
       "914                      40.717733             -74.043845   29634  Subscriber   \n",
       "\n",
       "              birth year  gender  year  age  \n",
       "tripduration                                 \n",
       "306                 1989       1  2019   30  \n",
       "123                 1966       1  2019   53  \n",
       "328                 1971       2  2019   48  \n",
       "95                  1985       1  2019   34  \n",
       "169                 1971       1  2019   48  \n",
       "...                  ...     ...   ...  ...  \n",
       "916                 1988       1  2019   31  \n",
       "661                 1983       2  2019   36  \n",
       "577                 1988       1  2019   31  \n",
       "585                 1988       1  2019   31  \n",
       "914                 1993       2  2019   26  \n",
       "\n",
       "[23606 rows x 16 columns]"
      ],
      "text/html": "<div>\n<style scoped>\n    .dataframe tbody tr th:only-of-type {\n        vertical-align: middle;\n    }\n\n    .dataframe tbody tr th {\n        vertical-align: top;\n    }\n\n    .dataframe thead th {\n        text-align: right;\n    }\n</style>\n<table border=\"1\" class=\"dataframe\">\n  <thead>\n    <tr style=\"text-align: right;\">\n      <th></th>\n      <th>starttime</th>\n      <th>stoptime</th>\n      <th>start station id</th>\n      <th>start station name</th>\n      <th>start station latitude</th>\n      <th>start station longitude</th>\n      <th>end station id</th>\n      <th>end station name</th>\n      <th>end station latitude</th>\n      <th>end station longitude</th>\n      <th>bikeid</th>\n      <th>usertype</th>\n      <th>birth year</th>\n      <th>gender</th>\n      <th>year</th>\n      <th>age</th>\n    </tr>\n    <tr>\n      <th>tripduration</th>\n      <th></th>\n      <th></th>\n      <th></th>\n      <th></th>\n      <th></th>\n      <th></th>\n      <th></th>\n      <th></th>\n      <th></th>\n      <th></th>\n      <th></th>\n      <th></th>\n      <th></th>\n      <th></th>\n      <th></th>\n      <th></th>\n    </tr>\n  </thead>\n  <tbody>\n    <tr>\n      <th>306</th>\n      <td>2019-03-01 06:47:08.211</td>\n      <td>2019-03-01 06:52:14.715</td>\n      <td>3183</td>\n      <td>Exchange Place</td>\n      <td>40.716247</td>\n      <td>-74.033459</td>\n      <td>3267</td>\n      <td>Morris Canal</td>\n      <td>40.712419</td>\n      <td>-74.038526</td>\n      <td>26272</td>\n      <td>Subscriber</td>\n      <td>1989</td>\n      <td>1</td>\n      <td>2019</td>\n      <td>30</td>\n    </tr>\n    <tr>\n      <th>123</th>\n      <td>2019-03-01 07:30:53.022</td>\n      <td>2019-03-01 07:32:56.777</td>\n      <td>3183</td>\n      <td>Exchange Place</td>\n      <td>40.716247</td>\n      <td>-74.033459</td>\n      <td>3184</td>\n      <td>Paulus Hook</td>\n      <td>40.714145</td>\n      <td>-74.033552</td>\n      <td>26192</td>\n      <td>Subscriber</td>\n      <td>1966</td>\n      <td>1</td>\n      <td>2019</td>\n      <td>53</td>\n    </tr>\n    <tr>\n      <th>328</th>\n      <td>2019-03-01 08:18:30.403</td>\n      <td>2019-03-01 08:23:59.059</td>\n      <td>3183</td>\n      <td>Exchange Place</td>\n      <td>40.716247</td>\n      <td>-74.033459</td>\n      <td>3213</td>\n      <td>Van Vorst Park</td>\n      <td>40.718489</td>\n      <td>-74.047727</td>\n      <td>26226</td>\n      <td>Subscriber</td>\n      <td>1971</td>\n      <td>2</td>\n      <td>2019</td>\n      <td>48</td>\n    </tr>\n    <tr>\n      <th>95</th>\n      <td>2019-03-01 11:04:47.202</td>\n      <td>2019-03-01 11:06:22.813</td>\n      <td>3183</td>\n      <td>Exchange Place</td>\n      <td>40.716247</td>\n      <td>-74.033459</td>\n      <td>3184</td>\n      <td>Paulus Hook</td>\n      <td>40.714145</td>\n      <td>-74.033552</td>\n      <td>26204</td>\n      <td>Subscriber</td>\n      <td>1985</td>\n      <td>1</td>\n      <td>2019</td>\n      <td>34</td>\n    </tr>\n    <tr>\n      <th>169</th>\n      <td>2019-03-01 11:51:29.417</td>\n      <td>2019-03-01 11:54:19.212</td>\n      <td>3183</td>\n      <td>Exchange Place</td>\n      <td>40.716247</td>\n      <td>-74.033459</td>\n      <td>3639</td>\n      <td>Harborside</td>\n      <td>40.719252</td>\n      <td>-74.034234</td>\n      <td>29449</td>\n      <td>Subscriber</td>\n      <td>1971</td>\n      <td>1</td>\n      <td>2019</td>\n      <td>48</td>\n    </tr>\n    <tr>\n      <th>...</th>\n      <td>...</td>\n      <td>...</td>\n      <td>...</td>\n      <td>...</td>\n      <td>...</td>\n      <td>...</td>\n      <td>...</td>\n      <td>...</td>\n      <td>...</td>\n      <td>...</td>\n      <td>...</td>\n      <td>...</td>\n      <td>...</td>\n      <td>...</td>\n      <td>...</td>\n      <td>...</td>\n    </tr>\n    <tr>\n      <th>916</th>\n      <td>2019-03-29 13:38:36.175</td>\n      <td>2019-03-29 13:53:53.010</td>\n      <td>3694</td>\n      <td>Jackson Square</td>\n      <td>40.711130</td>\n      <td>-74.078900</td>\n      <td>3185</td>\n      <td>City Hall</td>\n      <td>40.717733</td>\n      <td>-74.043845</td>\n      <td>29277</td>\n      <td>Subscriber</td>\n      <td>1988</td>\n      <td>1</td>\n      <td>2019</td>\n      <td>31</td>\n    </tr>\n    <tr>\n      <th>661</th>\n      <td>2019-03-29 15:29:18.751</td>\n      <td>2019-03-29 15:40:20.251</td>\n      <td>3694</td>\n      <td>Jackson Square</td>\n      <td>40.711130</td>\n      <td>-74.078900</td>\n      <td>3280</td>\n      <td>Astor Place</td>\n      <td>40.719282</td>\n      <td>-74.071262</td>\n      <td>26235</td>\n      <td>Subscriber</td>\n      <td>1983</td>\n      <td>2</td>\n      <td>2019</td>\n      <td>36</td>\n    </tr>\n    <tr>\n      <th>577</th>\n      <td>2019-03-30 13:43:09.209</td>\n      <td>2019-03-30 13:52:46.714</td>\n      <td>3694</td>\n      <td>Jackson Square</td>\n      <td>40.711130</td>\n      <td>-74.078900</td>\n      <td>3195</td>\n      <td>Sip Ave</td>\n      <td>40.730897</td>\n      <td>-74.063913</td>\n      <td>29596</td>\n      <td>Subscriber</td>\n      <td>1988</td>\n      <td>1</td>\n      <td>2019</td>\n      <td>31</td>\n    </tr>\n    <tr>\n      <th>585</th>\n      <td>2019-03-31 08:33:21.520</td>\n      <td>2019-03-31 08:43:06.752</td>\n      <td>3694</td>\n      <td>Jackson Square</td>\n      <td>40.711130</td>\n      <td>-74.078900</td>\n      <td>3195</td>\n      <td>Sip Ave</td>\n      <td>40.730897</td>\n      <td>-74.063913</td>\n      <td>26192</td>\n      <td>Subscriber</td>\n      <td>1988</td>\n      <td>1</td>\n      <td>2019</td>\n      <td>31</td>\n    </tr>\n    <tr>\n      <th>914</th>\n      <td>2019-03-31 14:59:32.398</td>\n      <td>2019-03-31 15:14:46.848</td>\n      <td>3694</td>\n      <td>Jackson Square</td>\n      <td>40.711130</td>\n      <td>-74.078900</td>\n      <td>3185</td>\n      <td>City Hall</td>\n      <td>40.717733</td>\n      <td>-74.043845</td>\n      <td>29634</td>\n      <td>Subscriber</td>\n      <td>1993</td>\n      <td>2</td>\n      <td>2019</td>\n      <td>26</td>\n    </tr>\n  </tbody>\n</table>\n<p>23606 rows × 16 columns</p>\n</div>"
     },
     "metadata": {},
     "execution_count": 44
    }
   ],
   "source": [
    "df"
   ]
  },
  {
   "cell_type": "code",
   "execution_count": 54,
   "metadata": {},
   "outputs": [
    {
     "output_type": "execute_result",
     "data": {
      "text/plain": [
       "       tripduration                 starttime                  stoptime  \\\n",
       "0              1437  2020-04-01 01:06:20.6300  2020-04-01 01:30:17.9680   \n",
       "1               264  2020-04-01 05:02:42.0570  2020-04-01 05:07:06.1260   \n",
       "2               254  2020-04-01 06:20:28.1190  2020-04-01 06:24:42.1380   \n",
       "3               429  2020-04-01 06:33:30.5170  2020-04-01 06:40:40.1990   \n",
       "4               805  2020-04-01 06:38:32.9220  2020-04-01 06:51:58.2050   \n",
       "...             ...                       ...                       ...   \n",
       "43741           673  2019-07-31 23:39:13.1800  2019-07-31 23:50:26.6520   \n",
       "43742           161  2019-07-31 23:41:24.1110  2019-07-31 23:44:05.4090   \n",
       "43743           310  2019-07-31 23:47:27.3940  2019-07-31 23:52:37.4870   \n",
       "43744           137  2019-07-31 23:59:29.9300  2019-08-01 00:01:47.1970   \n",
       "43745           463  2019-07-31 23:59:54.9470  2019-08-01 00:07:37.9750   \n",
       "\n",
       "       start station id start station name  start station latitude  \\\n",
       "0                  3678      Fairmount Ave               40.725726   \n",
       "1                  3207        Oakland Ave               40.737604   \n",
       "2                  3678      Fairmount Ave               40.725726   \n",
       "3                  3195            Sip Ave               40.730897   \n",
       "4                  3193       Lincoln Park               40.724605   \n",
       "...                 ...                ...                     ...   \n",
       "43741              3681           Grand St               40.715178   \n",
       "43742              3211         Newark Ave               40.721525   \n",
       "43743              3195            Sip Ave               40.730897   \n",
       "43744              3199       Newport Pkwy               40.728745   \n",
       "43745              3199       Newport Pkwy               40.728745   \n",
       "\n",
       "       start station longitude  end station id         end station name  \\\n",
       "0                   -74.071959            3678            Fairmount Ave   \n",
       "1                   -74.052478            3195                  Sip Ave   \n",
       "2                   -74.071959            3195                  Sip Ave   \n",
       "3                   -74.063913            3679               Bergen Ave   \n",
       "4                   -74.078406            3195                  Sip Ave   \n",
       "...                        ...             ...                      ...   \n",
       "43741               -74.037683            3277  Communipaw & Berry Lane   \n",
       "43742               -74.046305            3203            Hamilton Park   \n",
       "43743               -74.063913            3678            Fairmount Ave   \n",
       "43744               -74.032108            3638            Washington St   \n",
       "43745               -74.032108            3203            Hamilton Park   \n",
       "\n",
       "       end station latitude  end station longitude  bikeid    usertype  \\\n",
       "0                 40.725726             -74.071959   42314    Customer   \n",
       "1                 40.730897             -74.063913   42146  Subscriber   \n",
       "2                 40.730897             -74.063913   42255  Subscriber   \n",
       "3                 40.722104             -74.071455   42529  Subscriber   \n",
       "4                 40.730897             -74.063913   42362  Subscriber   \n",
       "...                     ...                    ...     ...         ...   \n",
       "43741             40.714358             -74.066611   26284  Subscriber   \n",
       "43742             40.727596             -74.044247   29570  Subscriber   \n",
       "43743             40.725726             -74.071959   26237  Subscriber   \n",
       "43744             40.724294             -74.035483   29121  Subscriber   \n",
       "43745             40.727596             -74.044247   29259  Subscriber   \n",
       "\n",
       "       birth year  gender  \n",
       "0            2002       2  \n",
       "1            1963       2  \n",
       "2            1981       1  \n",
       "3            1964       1  \n",
       "4            1965       1  \n",
       "...           ...     ...  \n",
       "43741        1987       1  \n",
       "43742        1998       1  \n",
       "43743        1977       1  \n",
       "43744        1993       1  \n",
       "43745        1988       1  \n",
       "\n",
       "[248504 rows x 15 columns]"
      ],
      "text/html": "<div>\n<style scoped>\n    .dataframe tbody tr th:only-of-type {\n        vertical-align: middle;\n    }\n\n    .dataframe tbody tr th {\n        vertical-align: top;\n    }\n\n    .dataframe thead th {\n        text-align: right;\n    }\n</style>\n<table border=\"1\" class=\"dataframe\">\n  <thead>\n    <tr style=\"text-align: right;\">\n      <th></th>\n      <th>tripduration</th>\n      <th>starttime</th>\n      <th>stoptime</th>\n      <th>start station id</th>\n      <th>start station name</th>\n      <th>start station latitude</th>\n      <th>start station longitude</th>\n      <th>end station id</th>\n      <th>end station name</th>\n      <th>end station latitude</th>\n      <th>end station longitude</th>\n      <th>bikeid</th>\n      <th>usertype</th>\n      <th>birth year</th>\n      <th>gender</th>\n    </tr>\n  </thead>\n  <tbody>\n    <tr>\n      <th>0</th>\n      <td>1437</td>\n      <td>2020-04-01 01:06:20.6300</td>\n      <td>2020-04-01 01:30:17.9680</td>\n      <td>3678</td>\n      <td>Fairmount Ave</td>\n      <td>40.725726</td>\n      <td>-74.071959</td>\n      <td>3678</td>\n      <td>Fairmount Ave</td>\n      <td>40.725726</td>\n      <td>-74.071959</td>\n      <td>42314</td>\n      <td>Customer</td>\n      <td>2002</td>\n      <td>2</td>\n    </tr>\n    <tr>\n      <th>1</th>\n      <td>264</td>\n      <td>2020-04-01 05:02:42.0570</td>\n      <td>2020-04-01 05:07:06.1260</td>\n      <td>3207</td>\n      <td>Oakland Ave</td>\n      <td>40.737604</td>\n      <td>-74.052478</td>\n      <td>3195</td>\n      <td>Sip Ave</td>\n      <td>40.730897</td>\n      <td>-74.063913</td>\n      <td>42146</td>\n      <td>Subscriber</td>\n      <td>1963</td>\n      <td>2</td>\n    </tr>\n    <tr>\n      <th>2</th>\n      <td>254</td>\n      <td>2020-04-01 06:20:28.1190</td>\n      <td>2020-04-01 06:24:42.1380</td>\n      <td>3678</td>\n      <td>Fairmount Ave</td>\n      <td>40.725726</td>\n      <td>-74.071959</td>\n      <td>3195</td>\n      <td>Sip Ave</td>\n      <td>40.730897</td>\n      <td>-74.063913</td>\n      <td>42255</td>\n      <td>Subscriber</td>\n      <td>1981</td>\n      <td>1</td>\n    </tr>\n    <tr>\n      <th>3</th>\n      <td>429</td>\n      <td>2020-04-01 06:33:30.5170</td>\n      <td>2020-04-01 06:40:40.1990</td>\n      <td>3195</td>\n      <td>Sip Ave</td>\n      <td>40.730897</td>\n      <td>-74.063913</td>\n      <td>3679</td>\n      <td>Bergen Ave</td>\n      <td>40.722104</td>\n      <td>-74.071455</td>\n      <td>42529</td>\n      <td>Subscriber</td>\n      <td>1964</td>\n      <td>1</td>\n    </tr>\n    <tr>\n      <th>4</th>\n      <td>805</td>\n      <td>2020-04-01 06:38:32.9220</td>\n      <td>2020-04-01 06:51:58.2050</td>\n      <td>3193</td>\n      <td>Lincoln Park</td>\n      <td>40.724605</td>\n      <td>-74.078406</td>\n      <td>3195</td>\n      <td>Sip Ave</td>\n      <td>40.730897</td>\n      <td>-74.063913</td>\n      <td>42362</td>\n      <td>Subscriber</td>\n      <td>1965</td>\n      <td>1</td>\n    </tr>\n    <tr>\n      <th>...</th>\n      <td>...</td>\n      <td>...</td>\n      <td>...</td>\n      <td>...</td>\n      <td>...</td>\n      <td>...</td>\n      <td>...</td>\n      <td>...</td>\n      <td>...</td>\n      <td>...</td>\n      <td>...</td>\n      <td>...</td>\n      <td>...</td>\n      <td>...</td>\n      <td>...</td>\n    </tr>\n    <tr>\n      <th>43741</th>\n      <td>673</td>\n      <td>2019-07-31 23:39:13.1800</td>\n      <td>2019-07-31 23:50:26.6520</td>\n      <td>3681</td>\n      <td>Grand St</td>\n      <td>40.715178</td>\n      <td>-74.037683</td>\n      <td>3277</td>\n      <td>Communipaw &amp; Berry Lane</td>\n      <td>40.714358</td>\n      <td>-74.066611</td>\n      <td>26284</td>\n      <td>Subscriber</td>\n      <td>1987</td>\n      <td>1</td>\n    </tr>\n    <tr>\n      <th>43742</th>\n      <td>161</td>\n      <td>2019-07-31 23:41:24.1110</td>\n      <td>2019-07-31 23:44:05.4090</td>\n      <td>3211</td>\n      <td>Newark Ave</td>\n      <td>40.721525</td>\n      <td>-74.046305</td>\n      <td>3203</td>\n      <td>Hamilton Park</td>\n      <td>40.727596</td>\n      <td>-74.044247</td>\n      <td>29570</td>\n      <td>Subscriber</td>\n      <td>1998</td>\n      <td>1</td>\n    </tr>\n    <tr>\n      <th>43743</th>\n      <td>310</td>\n      <td>2019-07-31 23:47:27.3940</td>\n      <td>2019-07-31 23:52:37.4870</td>\n      <td>3195</td>\n      <td>Sip Ave</td>\n      <td>40.730897</td>\n      <td>-74.063913</td>\n      <td>3678</td>\n      <td>Fairmount Ave</td>\n      <td>40.725726</td>\n      <td>-74.071959</td>\n      <td>26237</td>\n      <td>Subscriber</td>\n      <td>1977</td>\n      <td>1</td>\n    </tr>\n    <tr>\n      <th>43744</th>\n      <td>137</td>\n      <td>2019-07-31 23:59:29.9300</td>\n      <td>2019-08-01 00:01:47.1970</td>\n      <td>3199</td>\n      <td>Newport Pkwy</td>\n      <td>40.728745</td>\n      <td>-74.032108</td>\n      <td>3638</td>\n      <td>Washington St</td>\n      <td>40.724294</td>\n      <td>-74.035483</td>\n      <td>29121</td>\n      <td>Subscriber</td>\n      <td>1993</td>\n      <td>1</td>\n    </tr>\n    <tr>\n      <th>43745</th>\n      <td>463</td>\n      <td>2019-07-31 23:59:54.9470</td>\n      <td>2019-08-01 00:07:37.9750</td>\n      <td>3199</td>\n      <td>Newport Pkwy</td>\n      <td>40.728745</td>\n      <td>-74.032108</td>\n      <td>3203</td>\n      <td>Hamilton Park</td>\n      <td>40.727596</td>\n      <td>-74.044247</td>\n      <td>29259</td>\n      <td>Subscriber</td>\n      <td>1988</td>\n      <td>1</td>\n    </tr>\n  </tbody>\n</table>\n<p>248504 rows × 15 columns</p>\n</div>"
     },
     "metadata": {},
     "execution_count": 54
    }
   ],
   "source": [
    "# solution for importing and joining multiple csvs here:  https://stackoverflow.com/questions/20906474/import-multiple-csv-files-into-pandas-and-concatenate-into-one-dataframe\n",
    "all_files = glob.glob(os.path.join(\"data\", \"*.csv\"))\n",
    "frame = pd.concat((pd.read_csv(f)) for f in all_files)\n",
    "frame"
   ]
  },
  {
   "cell_type": "code",
   "execution_count": 46,
   "metadata": {},
   "outputs": [
    {
     "output_type": "execute_result",
     "data": {
      "text/plain": [
       "       tripduration  start station id  start station latitude  \\\n",
       "count  2.485040e+05     248504.000000           248504.000000   \n",
       "mean   1.093443e+03       3290.386750               40.722528   \n",
       "std    1.267563e+04        169.103665                0.007292   \n",
       "min    6.100000e+01       3183.000000               40.709651   \n",
       "25%    2.580000e+02       3194.000000               40.717733   \n",
       "50%    4.270000e+02       3209.000000               40.721525   \n",
       "75%    8.600000e+02       3276.000000               40.727224   \n",
       "max    2.423337e+06       3792.000000               40.748716   \n",
       "\n",
       "       start station longitude  end station id  end station latitude  \\\n",
       "count            248504.000000   248504.000000         248504.000000   \n",
       "mean                -74.046609     3286.868984             40.721874   \n",
       "std                   0.011401      175.771408              0.115751   \n",
       "min                 -74.083639      157.000000              0.000000   \n",
       "25%                 -74.050990     3192.000000             40.717733   \n",
       "50%                 -74.043991     3206.000000             40.721124   \n",
       "75%                 -74.038051     3275.000000             40.727224   \n",
       "max                 -74.032108     4282.000000             40.848282   \n",
       "\n",
       "       end station longitude         bikeid     birth year         gender  \n",
       "count          248504.000000  248504.000000  248504.000000  248504.000000  \n",
       "mean              -74.045554   34275.427212    1979.279295       0.960049  \n",
       "std                 0.210371    7476.199672      10.484516       0.652184  \n",
       "min               -74.083639   14578.000000    1888.000000       0.000000  \n",
       "25%               -74.050656   29246.000000    1970.000000       1.000000  \n",
       "50%               -74.043845   29626.000000    1981.000000       1.000000  \n",
       "75%               -74.038051   42314.000000    1988.000000       1.000000  \n",
       "max                 0.000000   55298.000000    2004.000000       2.000000  "
      ],
      "text/html": "<div>\n<style scoped>\n    .dataframe tbody tr th:only-of-type {\n        vertical-align: middle;\n    }\n\n    .dataframe tbody tr th {\n        vertical-align: top;\n    }\n\n    .dataframe thead th {\n        text-align: right;\n    }\n</style>\n<table border=\"1\" class=\"dataframe\">\n  <thead>\n    <tr style=\"text-align: right;\">\n      <th></th>\n      <th>tripduration</th>\n      <th>start station id</th>\n      <th>start station latitude</th>\n      <th>start station longitude</th>\n      <th>end station id</th>\n      <th>end station latitude</th>\n      <th>end station longitude</th>\n      <th>bikeid</th>\n      <th>birth year</th>\n      <th>gender</th>\n    </tr>\n  </thead>\n  <tbody>\n    <tr>\n      <th>count</th>\n      <td>2.485040e+05</td>\n      <td>248504.000000</td>\n      <td>248504.000000</td>\n      <td>248504.000000</td>\n      <td>248504.000000</td>\n      <td>248504.000000</td>\n      <td>248504.000000</td>\n      <td>248504.000000</td>\n      <td>248504.000000</td>\n      <td>248504.000000</td>\n    </tr>\n    <tr>\n      <th>mean</th>\n      <td>1.093443e+03</td>\n      <td>3290.386750</td>\n      <td>40.722528</td>\n      <td>-74.046609</td>\n      <td>3286.868984</td>\n      <td>40.721874</td>\n      <td>-74.045554</td>\n      <td>34275.427212</td>\n      <td>1979.279295</td>\n      <td>0.960049</td>\n    </tr>\n    <tr>\n      <th>std</th>\n      <td>1.267563e+04</td>\n      <td>169.103665</td>\n      <td>0.007292</td>\n      <td>0.011401</td>\n      <td>175.771408</td>\n      <td>0.115751</td>\n      <td>0.210371</td>\n      <td>7476.199672</td>\n      <td>10.484516</td>\n      <td>0.652184</td>\n    </tr>\n    <tr>\n      <th>min</th>\n      <td>6.100000e+01</td>\n      <td>3183.000000</td>\n      <td>40.709651</td>\n      <td>-74.083639</td>\n      <td>157.000000</td>\n      <td>0.000000</td>\n      <td>-74.083639</td>\n      <td>14578.000000</td>\n      <td>1888.000000</td>\n      <td>0.000000</td>\n    </tr>\n    <tr>\n      <th>25%</th>\n      <td>2.580000e+02</td>\n      <td>3194.000000</td>\n      <td>40.717733</td>\n      <td>-74.050990</td>\n      <td>3192.000000</td>\n      <td>40.717733</td>\n      <td>-74.050656</td>\n      <td>29246.000000</td>\n      <td>1970.000000</td>\n      <td>1.000000</td>\n    </tr>\n    <tr>\n      <th>50%</th>\n      <td>4.270000e+02</td>\n      <td>3209.000000</td>\n      <td>40.721525</td>\n      <td>-74.043991</td>\n      <td>3206.000000</td>\n      <td>40.721124</td>\n      <td>-74.043845</td>\n      <td>29626.000000</td>\n      <td>1981.000000</td>\n      <td>1.000000</td>\n    </tr>\n    <tr>\n      <th>75%</th>\n      <td>8.600000e+02</td>\n      <td>3276.000000</td>\n      <td>40.727224</td>\n      <td>-74.038051</td>\n      <td>3275.000000</td>\n      <td>40.727224</td>\n      <td>-74.038051</td>\n      <td>42314.000000</td>\n      <td>1988.000000</td>\n      <td>1.000000</td>\n    </tr>\n    <tr>\n      <th>max</th>\n      <td>2.423337e+06</td>\n      <td>3792.000000</td>\n      <td>40.748716</td>\n      <td>-74.032108</td>\n      <td>4282.000000</td>\n      <td>40.848282</td>\n      <td>0.000000</td>\n      <td>55298.000000</td>\n      <td>2004.000000</td>\n      <td>2.000000</td>\n    </tr>\n  </tbody>\n</table>\n</div>"
     },
     "metadata": {},
     "execution_count": 46
    }
   ],
   "source": [
    "frame.describe()"
   ]
  },
  {
   "cell_type": "code",
   "execution_count": 55,
   "metadata": {},
   "outputs": [
    {
     "output_type": "execute_result",
     "data": {
      "text/plain": [
       "tripduration                 int64\n",
       "starttime                   object\n",
       "stoptime                    object\n",
       "start station id             int64\n",
       "start station name          object\n",
       "start station latitude     float64\n",
       "start station longitude    float64\n",
       "end station id               int64\n",
       "end station name            object\n",
       "end station latitude       float64\n",
       "end station longitude      float64\n",
       "bikeid                       int64\n",
       "usertype                    object\n",
       "birth year                   int64\n",
       "gender                       int64\n",
       "dtype: object"
      ]
     },
     "metadata": {},
     "execution_count": 55
    }
   ],
   "source": [
    "frame.dtypes"
   ]
  },
  {
   "cell_type": "code",
   "execution_count": 56,
   "metadata": {},
   "outputs": [],
   "source": [
    "# convert startime column to datetime format\n",
    "# https://stackoverflow.com/questions/51898826/converting-object-column-in-pandas-dataframe-to-datetime\n",
    "frame['starttime'] = pd.to_datetime(frame['starttime'], dayfirst=True)\n",
    "frame['stoptime'] = pd.to_datetime(frame['stoptime'], dayfirst=True)\n"
   ]
  },
  {
   "cell_type": "code",
   "execution_count": 57,
   "metadata": {},
   "outputs": [],
   "source": [
    "frame['start_year'] = frame['starttime'].dt.year\n",
    "frame['age'] = frame['start_year'] - frame['birth year']"
   ]
  },
  {
   "cell_type": "code",
   "execution_count": 58,
   "metadata": {},
   "outputs": [],
   "source": [
    "# extract year from startime col and calculate age for each user\n",
    "# frame['start_year'] = frame['starttime'].dt.year\n",
    "frame['start_month'] = frame['starttime'].dt.month\n",
    "frame['start_day'] = frame['starttime'].dt.day\n",
    "frame['stop_year'] = frame['stoptime'].dt.year\n",
    "frame['stop_month'] = frame['stoptime'].dt.month\n",
    "frame['stop_day'] = frame['stoptime'].dt.day"
   ]
  },
  {
   "cell_type": "code",
   "execution_count": 43,
   "metadata": {},
   "outputs": [
    {
     "output_type": "error",
     "ename": "ValueError",
     "evalue": "cannot reindex from a duplicate axis",
     "traceback": [
      "\u001b[0;31m---------------------------------------------------------------------------\u001b[0m",
      "\u001b[0;31mValueError\u001b[0m                                Traceback (most recent call last)",
      "\u001b[0;32m<ipython-input-43-0ba27a3bf3c8>\u001b[0m in \u001b[0;36m<module>\u001b[0;34m\u001b[0m\n\u001b[0;32m----> 1\u001b[0;31m \u001b[0mframe\u001b[0m\u001b[0;34m[\u001b[0m\u001b[0;34m'age'\u001b[0m\u001b[0;34m]\u001b[0m \u001b[0;34m=\u001b[0m \u001b[0mframe\u001b[0m\u001b[0;34m[\u001b[0m\u001b[0;34m'start_year'\u001b[0m\u001b[0;34m]\u001b[0m \u001b[0;34m-\u001b[0m \u001b[0mdf\u001b[0m\u001b[0;34m[\u001b[0m\u001b[0;34m'birth year'\u001b[0m\u001b[0;34m]\u001b[0m\u001b[0;34m\u001b[0m\u001b[0;34m\u001b[0m\u001b[0m\n\u001b[0m",
      "\u001b[0;32m~/opt/anaconda3/envs/PythonData/lib/python3.6/site-packages/pandas/core/frame.py\u001b[0m in \u001b[0;36m__setitem__\u001b[0;34m(self, key, value)\u001b[0m\n\u001b[1;32m   2936\u001b[0m         \u001b[0;32melse\u001b[0m\u001b[0;34m:\u001b[0m\u001b[0;34m\u001b[0m\u001b[0;34m\u001b[0m\u001b[0m\n\u001b[1;32m   2937\u001b[0m             \u001b[0;31m# set column\u001b[0m\u001b[0;34m\u001b[0m\u001b[0;34m\u001b[0m\u001b[0;34m\u001b[0m\u001b[0m\n\u001b[0;32m-> 2938\u001b[0;31m             \u001b[0mself\u001b[0m\u001b[0;34m.\u001b[0m\u001b[0m_set_item\u001b[0m\u001b[0;34m(\u001b[0m\u001b[0mkey\u001b[0m\u001b[0;34m,\u001b[0m \u001b[0mvalue\u001b[0m\u001b[0;34m)\u001b[0m\u001b[0;34m\u001b[0m\u001b[0;34m\u001b[0m\u001b[0m\n\u001b[0m\u001b[1;32m   2939\u001b[0m \u001b[0;34m\u001b[0m\u001b[0m\n\u001b[1;32m   2940\u001b[0m     \u001b[0;32mdef\u001b[0m \u001b[0m_setitem_slice\u001b[0m\u001b[0;34m(\u001b[0m\u001b[0mself\u001b[0m\u001b[0;34m,\u001b[0m \u001b[0mkey\u001b[0m\u001b[0;34m,\u001b[0m \u001b[0mvalue\u001b[0m\u001b[0;34m)\u001b[0m\u001b[0;34m:\u001b[0m\u001b[0;34m\u001b[0m\u001b[0;34m\u001b[0m\u001b[0m\n",
      "\u001b[0;32m~/opt/anaconda3/envs/PythonData/lib/python3.6/site-packages/pandas/core/frame.py\u001b[0m in \u001b[0;36m_set_item\u001b[0;34m(self, key, value)\u001b[0m\n\u001b[1;32m   2998\u001b[0m \u001b[0;34m\u001b[0m\u001b[0m\n\u001b[1;32m   2999\u001b[0m         \u001b[0mself\u001b[0m\u001b[0;34m.\u001b[0m\u001b[0m_ensure_valid_index\u001b[0m\u001b[0;34m(\u001b[0m\u001b[0mvalue\u001b[0m\u001b[0;34m)\u001b[0m\u001b[0;34m\u001b[0m\u001b[0;34m\u001b[0m\u001b[0m\n\u001b[0;32m-> 3000\u001b[0;31m         \u001b[0mvalue\u001b[0m \u001b[0;34m=\u001b[0m \u001b[0mself\u001b[0m\u001b[0;34m.\u001b[0m\u001b[0m_sanitize_column\u001b[0m\u001b[0;34m(\u001b[0m\u001b[0mkey\u001b[0m\u001b[0;34m,\u001b[0m \u001b[0mvalue\u001b[0m\u001b[0;34m)\u001b[0m\u001b[0;34m\u001b[0m\u001b[0;34m\u001b[0m\u001b[0m\n\u001b[0m\u001b[1;32m   3001\u001b[0m         \u001b[0mNDFrame\u001b[0m\u001b[0;34m.\u001b[0m\u001b[0m_set_item\u001b[0m\u001b[0;34m(\u001b[0m\u001b[0mself\u001b[0m\u001b[0;34m,\u001b[0m \u001b[0mkey\u001b[0m\u001b[0;34m,\u001b[0m \u001b[0mvalue\u001b[0m\u001b[0;34m)\u001b[0m\u001b[0;34m\u001b[0m\u001b[0;34m\u001b[0m\u001b[0m\n\u001b[1;32m   3002\u001b[0m \u001b[0;34m\u001b[0m\u001b[0m\n",
      "\u001b[0;32m~/opt/anaconda3/envs/PythonData/lib/python3.6/site-packages/pandas/core/frame.py\u001b[0m in \u001b[0;36m_sanitize_column\u001b[0;34m(self, key, value, broadcast)\u001b[0m\n\u001b[1;32m   3611\u001b[0m \u001b[0;34m\u001b[0m\u001b[0m\n\u001b[1;32m   3612\u001b[0m         \u001b[0;32mif\u001b[0m \u001b[0misinstance\u001b[0m\u001b[0;34m(\u001b[0m\u001b[0mvalue\u001b[0m\u001b[0;34m,\u001b[0m \u001b[0mSeries\u001b[0m\u001b[0;34m)\u001b[0m\u001b[0;34m:\u001b[0m\u001b[0;34m\u001b[0m\u001b[0;34m\u001b[0m\u001b[0m\n\u001b[0;32m-> 3613\u001b[0;31m             \u001b[0mvalue\u001b[0m \u001b[0;34m=\u001b[0m \u001b[0mreindexer\u001b[0m\u001b[0;34m(\u001b[0m\u001b[0mvalue\u001b[0m\u001b[0;34m)\u001b[0m\u001b[0;34m\u001b[0m\u001b[0;34m\u001b[0m\u001b[0m\n\u001b[0m\u001b[1;32m   3614\u001b[0m \u001b[0;34m\u001b[0m\u001b[0m\n\u001b[1;32m   3615\u001b[0m         \u001b[0;32melif\u001b[0m \u001b[0misinstance\u001b[0m\u001b[0;34m(\u001b[0m\u001b[0mvalue\u001b[0m\u001b[0;34m,\u001b[0m \u001b[0mDataFrame\u001b[0m\u001b[0;34m)\u001b[0m\u001b[0;34m:\u001b[0m\u001b[0;34m\u001b[0m\u001b[0;34m\u001b[0m\u001b[0m\n",
      "\u001b[0;32m~/opt/anaconda3/envs/PythonData/lib/python3.6/site-packages/pandas/core/frame.py\u001b[0m in \u001b[0;36mreindexer\u001b[0;34m(value)\u001b[0m\n\u001b[1;32m   3602\u001b[0m                     \u001b[0;32mif\u001b[0m \u001b[0;32mnot\u001b[0m \u001b[0mvalue\u001b[0m\u001b[0;34m.\u001b[0m\u001b[0mindex\u001b[0m\u001b[0;34m.\u001b[0m\u001b[0mis_unique\u001b[0m\u001b[0;34m:\u001b[0m\u001b[0;34m\u001b[0m\u001b[0;34m\u001b[0m\u001b[0m\n\u001b[1;32m   3603\u001b[0m                         \u001b[0;31m# duplicate axis\u001b[0m\u001b[0;34m\u001b[0m\u001b[0;34m\u001b[0m\u001b[0;34m\u001b[0m\u001b[0m\n\u001b[0;32m-> 3604\u001b[0;31m                         \u001b[0;32mraise\u001b[0m \u001b[0merr\u001b[0m\u001b[0;34m\u001b[0m\u001b[0;34m\u001b[0m\u001b[0m\n\u001b[0m\u001b[1;32m   3605\u001b[0m \u001b[0;34m\u001b[0m\u001b[0m\n\u001b[1;32m   3606\u001b[0m                     \u001b[0;31m# other\u001b[0m\u001b[0;34m\u001b[0m\u001b[0;34m\u001b[0m\u001b[0;34m\u001b[0m\u001b[0m\n",
      "\u001b[0;32m~/opt/anaconda3/envs/PythonData/lib/python3.6/site-packages/pandas/core/frame.py\u001b[0m in \u001b[0;36mreindexer\u001b[0;34m(value)\u001b[0m\n\u001b[1;32m   3597\u001b[0m                 \u001b[0;31m# GH 4107\u001b[0m\u001b[0;34m\u001b[0m\u001b[0;34m\u001b[0m\u001b[0;34m\u001b[0m\u001b[0m\n\u001b[1;32m   3598\u001b[0m                 \u001b[0;32mtry\u001b[0m\u001b[0;34m:\u001b[0m\u001b[0;34m\u001b[0m\u001b[0;34m\u001b[0m\u001b[0m\n\u001b[0;32m-> 3599\u001b[0;31m                     \u001b[0mvalue\u001b[0m \u001b[0;34m=\u001b[0m \u001b[0mvalue\u001b[0m\u001b[0;34m.\u001b[0m\u001b[0mreindex\u001b[0m\u001b[0;34m(\u001b[0m\u001b[0mself\u001b[0m\u001b[0;34m.\u001b[0m\u001b[0mindex\u001b[0m\u001b[0;34m)\u001b[0m\u001b[0;34m.\u001b[0m\u001b[0m_values\u001b[0m\u001b[0;34m\u001b[0m\u001b[0;34m\u001b[0m\u001b[0m\n\u001b[0m\u001b[1;32m   3600\u001b[0m                 \u001b[0;32mexcept\u001b[0m \u001b[0mValueError\u001b[0m \u001b[0;32mas\u001b[0m \u001b[0merr\u001b[0m\u001b[0;34m:\u001b[0m\u001b[0;34m\u001b[0m\u001b[0;34m\u001b[0m\u001b[0m\n\u001b[1;32m   3601\u001b[0m                     \u001b[0;31m# raised in MultiIndex.from_tuples, see test_insert_error_msmgs\u001b[0m\u001b[0;34m\u001b[0m\u001b[0;34m\u001b[0m\u001b[0;34m\u001b[0m\u001b[0m\n",
      "\u001b[0;32m~/opt/anaconda3/envs/PythonData/lib/python3.6/site-packages/pandas/core/series.py\u001b[0m in \u001b[0;36mreindex\u001b[0;34m(self, index, **kwargs)\u001b[0m\n\u001b[1;32m   4028\u001b[0m     \u001b[0;34m@\u001b[0m\u001b[0mAppender\u001b[0m\u001b[0;34m(\u001b[0m\u001b[0mgeneric\u001b[0m\u001b[0;34m.\u001b[0m\u001b[0mNDFrame\u001b[0m\u001b[0;34m.\u001b[0m\u001b[0mreindex\u001b[0m\u001b[0;34m.\u001b[0m\u001b[0m__doc__\u001b[0m\u001b[0;34m)\u001b[0m\u001b[0;34m\u001b[0m\u001b[0;34m\u001b[0m\u001b[0m\n\u001b[1;32m   4029\u001b[0m     \u001b[0;32mdef\u001b[0m \u001b[0mreindex\u001b[0m\u001b[0;34m(\u001b[0m\u001b[0mself\u001b[0m\u001b[0;34m,\u001b[0m \u001b[0mindex\u001b[0m\u001b[0;34m=\u001b[0m\u001b[0;32mNone\u001b[0m\u001b[0;34m,\u001b[0m \u001b[0;34m**\u001b[0m\u001b[0mkwargs\u001b[0m\u001b[0;34m)\u001b[0m\u001b[0;34m:\u001b[0m\u001b[0;34m\u001b[0m\u001b[0;34m\u001b[0m\u001b[0m\n\u001b[0;32m-> 4030\u001b[0;31m         \u001b[0;32mreturn\u001b[0m \u001b[0msuper\u001b[0m\u001b[0;34m(\u001b[0m\u001b[0;34m)\u001b[0m\u001b[0;34m.\u001b[0m\u001b[0mreindex\u001b[0m\u001b[0;34m(\u001b[0m\u001b[0mindex\u001b[0m\u001b[0;34m=\u001b[0m\u001b[0mindex\u001b[0m\u001b[0;34m,\u001b[0m \u001b[0;34m**\u001b[0m\u001b[0mkwargs\u001b[0m\u001b[0;34m)\u001b[0m\u001b[0;34m\u001b[0m\u001b[0;34m\u001b[0m\u001b[0m\n\u001b[0m\u001b[1;32m   4031\u001b[0m \u001b[0;34m\u001b[0m\u001b[0m\n\u001b[1;32m   4032\u001b[0m     def drop(\n",
      "\u001b[0;32m~/opt/anaconda3/envs/PythonData/lib/python3.6/site-packages/pandas/core/generic.py\u001b[0m in \u001b[0;36mreindex\u001b[0;34m(self, *args, **kwargs)\u001b[0m\n\u001b[1;32m   4542\u001b[0m         \u001b[0;31m# perform the reindex on the axes\u001b[0m\u001b[0;34m\u001b[0m\u001b[0;34m\u001b[0m\u001b[0;34m\u001b[0m\u001b[0m\n\u001b[1;32m   4543\u001b[0m         return self._reindex_axes(\n\u001b[0;32m-> 4544\u001b[0;31m             \u001b[0maxes\u001b[0m\u001b[0;34m,\u001b[0m \u001b[0mlevel\u001b[0m\u001b[0;34m,\u001b[0m \u001b[0mlimit\u001b[0m\u001b[0;34m,\u001b[0m \u001b[0mtolerance\u001b[0m\u001b[0;34m,\u001b[0m \u001b[0mmethod\u001b[0m\u001b[0;34m,\u001b[0m \u001b[0mfill_value\u001b[0m\u001b[0;34m,\u001b[0m \u001b[0mcopy\u001b[0m\u001b[0;34m\u001b[0m\u001b[0;34m\u001b[0m\u001b[0m\n\u001b[0m\u001b[1;32m   4545\u001b[0m         ).__finalize__(self)\n\u001b[1;32m   4546\u001b[0m \u001b[0;34m\u001b[0m\u001b[0m\n",
      "\u001b[0;32m~/opt/anaconda3/envs/PythonData/lib/python3.6/site-packages/pandas/core/generic.py\u001b[0m in \u001b[0;36m_reindex_axes\u001b[0;34m(self, axes, level, limit, tolerance, method, fill_value, copy)\u001b[0m\n\u001b[1;32m   4565\u001b[0m                 \u001b[0mfill_value\u001b[0m\u001b[0;34m=\u001b[0m\u001b[0mfill_value\u001b[0m\u001b[0;34m,\u001b[0m\u001b[0;34m\u001b[0m\u001b[0;34m\u001b[0m\u001b[0m\n\u001b[1;32m   4566\u001b[0m                 \u001b[0mcopy\u001b[0m\u001b[0;34m=\u001b[0m\u001b[0mcopy\u001b[0m\u001b[0;34m,\u001b[0m\u001b[0;34m\u001b[0m\u001b[0;34m\u001b[0m\u001b[0m\n\u001b[0;32m-> 4567\u001b[0;31m                 \u001b[0mallow_dups\u001b[0m\u001b[0;34m=\u001b[0m\u001b[0;32mFalse\u001b[0m\u001b[0;34m,\u001b[0m\u001b[0;34m\u001b[0m\u001b[0;34m\u001b[0m\u001b[0m\n\u001b[0m\u001b[1;32m   4568\u001b[0m             )\n\u001b[1;32m   4569\u001b[0m \u001b[0;34m\u001b[0m\u001b[0m\n",
      "\u001b[0;32m~/opt/anaconda3/envs/PythonData/lib/python3.6/site-packages/pandas/core/generic.py\u001b[0m in \u001b[0;36m_reindex_with_indexers\u001b[0;34m(self, reindexers, fill_value, copy, allow_dups)\u001b[0m\n\u001b[1;32m   4611\u001b[0m                 \u001b[0mfill_value\u001b[0m\u001b[0;34m=\u001b[0m\u001b[0mfill_value\u001b[0m\u001b[0;34m,\u001b[0m\u001b[0;34m\u001b[0m\u001b[0;34m\u001b[0m\u001b[0m\n\u001b[1;32m   4612\u001b[0m                 \u001b[0mallow_dups\u001b[0m\u001b[0;34m=\u001b[0m\u001b[0mallow_dups\u001b[0m\u001b[0;34m,\u001b[0m\u001b[0;34m\u001b[0m\u001b[0;34m\u001b[0m\u001b[0m\n\u001b[0;32m-> 4613\u001b[0;31m                 \u001b[0mcopy\u001b[0m\u001b[0;34m=\u001b[0m\u001b[0mcopy\u001b[0m\u001b[0;34m,\u001b[0m\u001b[0;34m\u001b[0m\u001b[0;34m\u001b[0m\u001b[0m\n\u001b[0m\u001b[1;32m   4614\u001b[0m             )\n\u001b[1;32m   4615\u001b[0m \u001b[0;34m\u001b[0m\u001b[0m\n",
      "\u001b[0;32m~/opt/anaconda3/envs/PythonData/lib/python3.6/site-packages/pandas/core/internals/managers.py\u001b[0m in \u001b[0;36mreindex_indexer\u001b[0;34m(self, new_axis, indexer, axis, fill_value, allow_dups, copy)\u001b[0m\n\u001b[1;32m   1249\u001b[0m         \u001b[0;31m# some axes don't allow reindexing with dups\u001b[0m\u001b[0;34m\u001b[0m\u001b[0;34m\u001b[0m\u001b[0;34m\u001b[0m\u001b[0m\n\u001b[1;32m   1250\u001b[0m         \u001b[0;32mif\u001b[0m \u001b[0;32mnot\u001b[0m \u001b[0mallow_dups\u001b[0m\u001b[0;34m:\u001b[0m\u001b[0;34m\u001b[0m\u001b[0;34m\u001b[0m\u001b[0m\n\u001b[0;32m-> 1251\u001b[0;31m             \u001b[0mself\u001b[0m\u001b[0;34m.\u001b[0m\u001b[0maxes\u001b[0m\u001b[0;34m[\u001b[0m\u001b[0maxis\u001b[0m\u001b[0;34m]\u001b[0m\u001b[0;34m.\u001b[0m\u001b[0m_can_reindex\u001b[0m\u001b[0;34m(\u001b[0m\u001b[0mindexer\u001b[0m\u001b[0;34m)\u001b[0m\u001b[0;34m\u001b[0m\u001b[0;34m\u001b[0m\u001b[0m\n\u001b[0m\u001b[1;32m   1252\u001b[0m \u001b[0;34m\u001b[0m\u001b[0m\n\u001b[1;32m   1253\u001b[0m         \u001b[0;32mif\u001b[0m \u001b[0maxis\u001b[0m \u001b[0;34m>=\u001b[0m \u001b[0mself\u001b[0m\u001b[0;34m.\u001b[0m\u001b[0mndim\u001b[0m\u001b[0;34m:\u001b[0m\u001b[0;34m\u001b[0m\u001b[0;34m\u001b[0m\u001b[0m\n",
      "\u001b[0;32m~/opt/anaconda3/envs/PythonData/lib/python3.6/site-packages/pandas/core/indexes/base.py\u001b[0m in \u001b[0;36m_can_reindex\u001b[0;34m(self, indexer)\u001b[0m\n\u001b[1;32m   3097\u001b[0m         \u001b[0;31m# trying to reindex on an axis with duplicates\u001b[0m\u001b[0;34m\u001b[0m\u001b[0;34m\u001b[0m\u001b[0;34m\u001b[0m\u001b[0m\n\u001b[1;32m   3098\u001b[0m         \u001b[0;32mif\u001b[0m \u001b[0;32mnot\u001b[0m \u001b[0mself\u001b[0m\u001b[0;34m.\u001b[0m\u001b[0mis_unique\u001b[0m \u001b[0;32mand\u001b[0m \u001b[0mlen\u001b[0m\u001b[0;34m(\u001b[0m\u001b[0mindexer\u001b[0m\u001b[0;34m)\u001b[0m\u001b[0;34m:\u001b[0m\u001b[0;34m\u001b[0m\u001b[0;34m\u001b[0m\u001b[0m\n\u001b[0;32m-> 3099\u001b[0;31m             \u001b[0;32mraise\u001b[0m \u001b[0mValueError\u001b[0m\u001b[0;34m(\u001b[0m\u001b[0;34m\"cannot reindex from a duplicate axis\"\u001b[0m\u001b[0;34m)\u001b[0m\u001b[0;34m\u001b[0m\u001b[0;34m\u001b[0m\u001b[0m\n\u001b[0m\u001b[1;32m   3100\u001b[0m \u001b[0;34m\u001b[0m\u001b[0m\n\u001b[1;32m   3101\u001b[0m     \u001b[0;32mdef\u001b[0m \u001b[0mreindex\u001b[0m\u001b[0;34m(\u001b[0m\u001b[0mself\u001b[0m\u001b[0;34m,\u001b[0m \u001b[0mtarget\u001b[0m\u001b[0;34m,\u001b[0m \u001b[0mmethod\u001b[0m\u001b[0;34m=\u001b[0m\u001b[0;32mNone\u001b[0m\u001b[0;34m,\u001b[0m \u001b[0mlevel\u001b[0m\u001b[0;34m=\u001b[0m\u001b[0;32mNone\u001b[0m\u001b[0;34m,\u001b[0m \u001b[0mlimit\u001b[0m\u001b[0;34m=\u001b[0m\u001b[0;32mNone\u001b[0m\u001b[0;34m,\u001b[0m \u001b[0mtolerance\u001b[0m\u001b[0;34m=\u001b[0m\u001b[0;32mNone\u001b[0m\u001b[0;34m)\u001b[0m\u001b[0;34m:\u001b[0m\u001b[0;34m\u001b[0m\u001b[0;34m\u001b[0m\u001b[0m\n",
      "\u001b[0;31mValueError\u001b[0m: cannot reindex from a duplicate axis"
     ]
    }
   ],
   "source": [
    "frame['age'] = frame['start_year'] - df['birth year']\n"
   ]
  },
  {
   "cell_type": "code",
   "execution_count": 59,
   "metadata": {},
   "outputs": [
    {
     "output_type": "execute_result",
     "data": {
      "text/plain": [
       "tripduration                        int64\n",
       "starttime                  datetime64[ns]\n",
       "stoptime                   datetime64[ns]\n",
       "start station id                    int64\n",
       "start station name                 object\n",
       "start station latitude            float64\n",
       "start station longitude           float64\n",
       "end station id                      int64\n",
       "end station name                   object\n",
       "end station latitude              float64\n",
       "end station longitude             float64\n",
       "bikeid                              int64\n",
       "usertype                           object\n",
       "birth year                          int64\n",
       "gender                              int64\n",
       "start_year                          int64\n",
       "age                                 int64\n",
       "start_month                         int64\n",
       "start_day                           int64\n",
       "stop_year                           int64\n",
       "stop_month                          int64\n",
       "stop_day                            int64\n",
       "dtype: object"
      ]
     },
     "metadata": {},
     "execution_count": 59
    }
   ],
   "source": [
    "frame.dtypes"
   ]
  },
  {
   "cell_type": "code",
   "execution_count": 60,
   "metadata": {},
   "outputs": [
    {
     "output_type": "execute_result",
     "data": {
      "text/plain": [
       "       tripduration               starttime                stoptime  \\\n",
       "0              1437 2020-04-01 01:06:20.630 2020-04-01 01:30:17.968   \n",
       "1               264 2020-04-01 05:02:42.057 2020-04-01 05:07:06.126   \n",
       "2               254 2020-04-01 06:20:28.119 2020-04-01 06:24:42.138   \n",
       "3               429 2020-04-01 06:33:30.517 2020-04-01 06:40:40.199   \n",
       "4               805 2020-04-01 06:38:32.922 2020-04-01 06:51:58.205   \n",
       "...             ...                     ...                     ...   \n",
       "43741           673 2019-07-31 23:39:13.180 2019-07-31 23:50:26.652   \n",
       "43742           161 2019-07-31 23:41:24.111 2019-07-31 23:44:05.409   \n",
       "43743           310 2019-07-31 23:47:27.394 2019-07-31 23:52:37.487   \n",
       "43744           137 2019-07-31 23:59:29.930 2019-08-01 00:01:47.197   \n",
       "43745           463 2019-07-31 23:59:54.947 2019-08-01 00:07:37.975   \n",
       "\n",
       "       start station id start station name  start station latitude  \\\n",
       "0                  3678      Fairmount Ave               40.725726   \n",
       "1                  3207        Oakland Ave               40.737604   \n",
       "2                  3678      Fairmount Ave               40.725726   \n",
       "3                  3195            Sip Ave               40.730897   \n",
       "4                  3193       Lincoln Park               40.724605   \n",
       "...                 ...                ...                     ...   \n",
       "43741              3681           Grand St               40.715178   \n",
       "43742              3211         Newark Ave               40.721525   \n",
       "43743              3195            Sip Ave               40.730897   \n",
       "43744              3199       Newport Pkwy               40.728745   \n",
       "43745              3199       Newport Pkwy               40.728745   \n",
       "\n",
       "       start station longitude  end station id         end station name  \\\n",
       "0                   -74.071959            3678            Fairmount Ave   \n",
       "1                   -74.052478            3195                  Sip Ave   \n",
       "2                   -74.071959            3195                  Sip Ave   \n",
       "3                   -74.063913            3679               Bergen Ave   \n",
       "4                   -74.078406            3195                  Sip Ave   \n",
       "...                        ...             ...                      ...   \n",
       "43741               -74.037683            3277  Communipaw & Berry Lane   \n",
       "43742               -74.046305            3203            Hamilton Park   \n",
       "43743               -74.063913            3678            Fairmount Ave   \n",
       "43744               -74.032108            3638            Washington St   \n",
       "43745               -74.032108            3203            Hamilton Park   \n",
       "\n",
       "       end station latitude  ...    usertype  birth year gender  start_year  \\\n",
       "0                 40.725726  ...    Customer        2002      2        2020   \n",
       "1                 40.730897  ...  Subscriber        1963      2        2020   \n",
       "2                 40.730897  ...  Subscriber        1981      1        2020   \n",
       "3                 40.722104  ...  Subscriber        1964      1        2020   \n",
       "4                 40.730897  ...  Subscriber        1965      1        2020   \n",
       "...                     ...  ...         ...         ...    ...         ...   \n",
       "43741             40.714358  ...  Subscriber        1987      1        2019   \n",
       "43742             40.727596  ...  Subscriber        1998      1        2019   \n",
       "43743             40.725726  ...  Subscriber        1977      1        2019   \n",
       "43744             40.724294  ...  Subscriber        1993      1        2019   \n",
       "43745             40.727596  ...  Subscriber        1988      1        2019   \n",
       "\n",
       "       age  start_month  start_day  stop_year  stop_month  stop_day  \n",
       "0       18            4          1       2020           4         1  \n",
       "1       57            4          1       2020           4         1  \n",
       "2       39            4          1       2020           4         1  \n",
       "3       56            4          1       2020           4         1  \n",
       "4       55            4          1       2020           4         1  \n",
       "...    ...          ...        ...        ...         ...       ...  \n",
       "43741   32            7         31       2019           7        31  \n",
       "43742   21            7         31       2019           7        31  \n",
       "43743   42            7         31       2019           7        31  \n",
       "43744   26            7         31       2019           8         1  \n",
       "43745   31            7         31       2019           8         1  \n",
       "\n",
       "[248504 rows x 22 columns]"
      ],
      "text/html": "<div>\n<style scoped>\n    .dataframe tbody tr th:only-of-type {\n        vertical-align: middle;\n    }\n\n    .dataframe tbody tr th {\n        vertical-align: top;\n    }\n\n    .dataframe thead th {\n        text-align: right;\n    }\n</style>\n<table border=\"1\" class=\"dataframe\">\n  <thead>\n    <tr style=\"text-align: right;\">\n      <th></th>\n      <th>tripduration</th>\n      <th>starttime</th>\n      <th>stoptime</th>\n      <th>start station id</th>\n      <th>start station name</th>\n      <th>start station latitude</th>\n      <th>start station longitude</th>\n      <th>end station id</th>\n      <th>end station name</th>\n      <th>end station latitude</th>\n      <th>...</th>\n      <th>usertype</th>\n      <th>birth year</th>\n      <th>gender</th>\n      <th>start_year</th>\n      <th>age</th>\n      <th>start_month</th>\n      <th>start_day</th>\n      <th>stop_year</th>\n      <th>stop_month</th>\n      <th>stop_day</th>\n    </tr>\n  </thead>\n  <tbody>\n    <tr>\n      <th>0</th>\n      <td>1437</td>\n      <td>2020-04-01 01:06:20.630</td>\n      <td>2020-04-01 01:30:17.968</td>\n      <td>3678</td>\n      <td>Fairmount Ave</td>\n      <td>40.725726</td>\n      <td>-74.071959</td>\n      <td>3678</td>\n      <td>Fairmount Ave</td>\n      <td>40.725726</td>\n      <td>...</td>\n      <td>Customer</td>\n      <td>2002</td>\n      <td>2</td>\n      <td>2020</td>\n      <td>18</td>\n      <td>4</td>\n      <td>1</td>\n      <td>2020</td>\n      <td>4</td>\n      <td>1</td>\n    </tr>\n    <tr>\n      <th>1</th>\n      <td>264</td>\n      <td>2020-04-01 05:02:42.057</td>\n      <td>2020-04-01 05:07:06.126</td>\n      <td>3207</td>\n      <td>Oakland Ave</td>\n      <td>40.737604</td>\n      <td>-74.052478</td>\n      <td>3195</td>\n      <td>Sip Ave</td>\n      <td>40.730897</td>\n      <td>...</td>\n      <td>Subscriber</td>\n      <td>1963</td>\n      <td>2</td>\n      <td>2020</td>\n      <td>57</td>\n      <td>4</td>\n      <td>1</td>\n      <td>2020</td>\n      <td>4</td>\n      <td>1</td>\n    </tr>\n    <tr>\n      <th>2</th>\n      <td>254</td>\n      <td>2020-04-01 06:20:28.119</td>\n      <td>2020-04-01 06:24:42.138</td>\n      <td>3678</td>\n      <td>Fairmount Ave</td>\n      <td>40.725726</td>\n      <td>-74.071959</td>\n      <td>3195</td>\n      <td>Sip Ave</td>\n      <td>40.730897</td>\n      <td>...</td>\n      <td>Subscriber</td>\n      <td>1981</td>\n      <td>1</td>\n      <td>2020</td>\n      <td>39</td>\n      <td>4</td>\n      <td>1</td>\n      <td>2020</td>\n      <td>4</td>\n      <td>1</td>\n    </tr>\n    <tr>\n      <th>3</th>\n      <td>429</td>\n      <td>2020-04-01 06:33:30.517</td>\n      <td>2020-04-01 06:40:40.199</td>\n      <td>3195</td>\n      <td>Sip Ave</td>\n      <td>40.730897</td>\n      <td>-74.063913</td>\n      <td>3679</td>\n      <td>Bergen Ave</td>\n      <td>40.722104</td>\n      <td>...</td>\n      <td>Subscriber</td>\n      <td>1964</td>\n      <td>1</td>\n      <td>2020</td>\n      <td>56</td>\n      <td>4</td>\n      <td>1</td>\n      <td>2020</td>\n      <td>4</td>\n      <td>1</td>\n    </tr>\n    <tr>\n      <th>4</th>\n      <td>805</td>\n      <td>2020-04-01 06:38:32.922</td>\n      <td>2020-04-01 06:51:58.205</td>\n      <td>3193</td>\n      <td>Lincoln Park</td>\n      <td>40.724605</td>\n      <td>-74.078406</td>\n      <td>3195</td>\n      <td>Sip Ave</td>\n      <td>40.730897</td>\n      <td>...</td>\n      <td>Subscriber</td>\n      <td>1965</td>\n      <td>1</td>\n      <td>2020</td>\n      <td>55</td>\n      <td>4</td>\n      <td>1</td>\n      <td>2020</td>\n      <td>4</td>\n      <td>1</td>\n    </tr>\n    <tr>\n      <th>...</th>\n      <td>...</td>\n      <td>...</td>\n      <td>...</td>\n      <td>...</td>\n      <td>...</td>\n      <td>...</td>\n      <td>...</td>\n      <td>...</td>\n      <td>...</td>\n      <td>...</td>\n      <td>...</td>\n      <td>...</td>\n      <td>...</td>\n      <td>...</td>\n      <td>...</td>\n      <td>...</td>\n      <td>...</td>\n      <td>...</td>\n      <td>...</td>\n      <td>...</td>\n      <td>...</td>\n    </tr>\n    <tr>\n      <th>43741</th>\n      <td>673</td>\n      <td>2019-07-31 23:39:13.180</td>\n      <td>2019-07-31 23:50:26.652</td>\n      <td>3681</td>\n      <td>Grand St</td>\n      <td>40.715178</td>\n      <td>-74.037683</td>\n      <td>3277</td>\n      <td>Communipaw &amp; Berry Lane</td>\n      <td>40.714358</td>\n      <td>...</td>\n      <td>Subscriber</td>\n      <td>1987</td>\n      <td>1</td>\n      <td>2019</td>\n      <td>32</td>\n      <td>7</td>\n      <td>31</td>\n      <td>2019</td>\n      <td>7</td>\n      <td>31</td>\n    </tr>\n    <tr>\n      <th>43742</th>\n      <td>161</td>\n      <td>2019-07-31 23:41:24.111</td>\n      <td>2019-07-31 23:44:05.409</td>\n      <td>3211</td>\n      <td>Newark Ave</td>\n      <td>40.721525</td>\n      <td>-74.046305</td>\n      <td>3203</td>\n      <td>Hamilton Park</td>\n      <td>40.727596</td>\n      <td>...</td>\n      <td>Subscriber</td>\n      <td>1998</td>\n      <td>1</td>\n      <td>2019</td>\n      <td>21</td>\n      <td>7</td>\n      <td>31</td>\n      <td>2019</td>\n      <td>7</td>\n      <td>31</td>\n    </tr>\n    <tr>\n      <th>43743</th>\n      <td>310</td>\n      <td>2019-07-31 23:47:27.394</td>\n      <td>2019-07-31 23:52:37.487</td>\n      <td>3195</td>\n      <td>Sip Ave</td>\n      <td>40.730897</td>\n      <td>-74.063913</td>\n      <td>3678</td>\n      <td>Fairmount Ave</td>\n      <td>40.725726</td>\n      <td>...</td>\n      <td>Subscriber</td>\n      <td>1977</td>\n      <td>1</td>\n      <td>2019</td>\n      <td>42</td>\n      <td>7</td>\n      <td>31</td>\n      <td>2019</td>\n      <td>7</td>\n      <td>31</td>\n    </tr>\n    <tr>\n      <th>43744</th>\n      <td>137</td>\n      <td>2019-07-31 23:59:29.930</td>\n      <td>2019-08-01 00:01:47.197</td>\n      <td>3199</td>\n      <td>Newport Pkwy</td>\n      <td>40.728745</td>\n      <td>-74.032108</td>\n      <td>3638</td>\n      <td>Washington St</td>\n      <td>40.724294</td>\n      <td>...</td>\n      <td>Subscriber</td>\n      <td>1993</td>\n      <td>1</td>\n      <td>2019</td>\n      <td>26</td>\n      <td>7</td>\n      <td>31</td>\n      <td>2019</td>\n      <td>8</td>\n      <td>1</td>\n    </tr>\n    <tr>\n      <th>43745</th>\n      <td>463</td>\n      <td>2019-07-31 23:59:54.947</td>\n      <td>2019-08-01 00:07:37.975</td>\n      <td>3199</td>\n      <td>Newport Pkwy</td>\n      <td>40.728745</td>\n      <td>-74.032108</td>\n      <td>3203</td>\n      <td>Hamilton Park</td>\n      <td>40.727596</td>\n      <td>...</td>\n      <td>Subscriber</td>\n      <td>1988</td>\n      <td>1</td>\n      <td>2019</td>\n      <td>31</td>\n      <td>7</td>\n      <td>31</td>\n      <td>2019</td>\n      <td>8</td>\n      <td>1</td>\n    </tr>\n  </tbody>\n</table>\n<p>248504 rows × 22 columns</p>\n</div>"
     },
     "metadata": {},
     "execution_count": 60
    }
   ],
   "source": [
    "frame"
   ]
  },
  {
   "cell_type": "code",
   "execution_count": null,
   "metadata": {},
   "outputs": [],
   "source": []
  }
 ]
}